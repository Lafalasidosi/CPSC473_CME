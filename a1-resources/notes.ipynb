{
 "cells": [
  {
   "cell_type": "markdown",
   "metadata": {},
   "source": [
    "# Scrap notes file\n",
    "\n",
    "This file used to be a1_apriori_pure.ipynb. I was using it for scrap notes regarding testing ideas, recording helpful documentation, and so on."
   ]
  },
  {
   "cell_type": "markdown",
   "metadata": {},
   "source": [
    "# How to accept command-line arguments in Python\n",
    "\n",
    "Import the `sys` module, which stores a list of \"words\" given at the command line.\n",
    "\n",
    "For example, in\n",
    "\n",
    "```python3.12 apriori.py ./testdata.txt 50```\n",
    "\n",
    "- `argv[0]`: apriori.py\n",
    "- `argv[1]`: ./testdata.txt 50\n",
    "- `argv[2]`: 50"
   ]
  },
  {
   "cell_type": "code",
   "execution_count": null,
   "metadata": {},
   "outputs": [],
   "source": [
    "import pandas as pd\n",
    "import sklearn\n",
    "\n",
    "D = pd.read_csv('retail.txt')\n",
    "#D.describe()\n"
   ]
  },
  {
   "cell_type": "code",
   "execution_count": null,
   "metadata": {},
   "outputs": [],
   "source": [
    "D.head()"
   ]
  },
  {
   "cell_type": "code",
   "execution_count": null,
   "metadata": {},
   "outputs": [],
   "source": [
    "# String.format() method\n",
    "print(\"count of rows in D: {}\".format(len(D)))"
   ]
  },
  {
   "cell_type": "code",
   "execution_count": null,
   "metadata": {},
   "outputs": [],
   "source": [
    "# Splitting a string on whitespace\n",
    "\"hello I am sentence\".split()"
   ]
  },
  {
   "cell_type": "code",
   "execution_count": null,
   "metadata": {},
   "outputs": [],
   "source": [
    "# It's easy to open a file in Python.\n",
    "f = open(\"retail.txt\")\n",
    "# read 88162\n",
    "f.readline()\n",
    "# read the second line and turn it into a list\n",
    "s = f.readline().split()\n",
    "print(s)\n",
    "# remove the first two elements\n",
    "s = s[2:]\n",
    "print(s)"
   ]
  },
  {
   "cell_type": "code",
   "execution_count": null,
   "metadata": {},
   "outputs": [],
   "source": [
    "# Demonstration of String.rstrip()\n",
    "s=\"hello\\nhi\\n\"\n",
    "print(s.rstrip())\n",
    "print(\"OEF\")\n"
   ]
  },
  {
   "cell_type": "code",
   "execution_count": null,
   "metadata": {},
   "outputs": [],
   "source": [
    "# Create an empty DataFrame with two columns but no rows\n",
    "T=pd.DataFrame.from_dict({\"A\": [], \"B\": []})\n",
    "T.head()"
   ]
  },
  {
   "cell_type": "markdown",
   "metadata": {},
   "source": [
    "### From the documentation re: `ignore_index`\n",
    "\n",
    "ignore_index : bool, default False\n",
    "\n",
    "   If True, do not use the index values along the concatenation axis. The resulting axis will be labeled 0, ..., n - 1. This is useful if you are concatenating objects where the concatenation axis does not have meaningful indexing information. Note the index values on the other axes are still respected in the join."
   ]
  },
  {
   "cell_type": "code",
   "execution_count": null,
   "metadata": {},
   "outputs": [],
   "source": [
    "df = pd.DataFrame.from_dict(dict([(\"A\", [1, 2, 3]), (\"B\", [5, 6, 7])]))\n",
    "print(df.loc[2]) \n",
    "print(df.loc[2].A)\n",
    "pd.concat([df, pd.DataFrame.from_dict({\"A\": [4], \"B\": [8]})], ignore_index=True)"
   ]
  },
  {
   "cell_type": "markdown",
   "metadata": {},
   "source": [
    "# This'll be helpful\n",
    "\n",
    "It refers to updating particular rows in a DataFrame."
   ]
  },
  {
   "cell_type": "code",
   "execution_count": null,
   "metadata": {},
   "outputs": [],
   "source": [
    "df = pd.DataFrame({'A': ['a', 'b', 'c'],\n",
    "                    'B': ['x', 'y', 'z']})\n",
    "new_df = pd.DataFrame({'B': ['d', 'f']}, index=[0, 2])\n",
    "df.update(new_df)\n",
    "df"
   ]
  },
  {
   "cell_type": "code",
   "execution_count": null,
   "metadata": {},
   "outputs": [],
   "source": [
    "# change (0, A) from 1 to 99)\n",
    "df = pd.DataFrame.from_dict(dict([(\"A\", [1, 2, 3]), (\"B\", [5, 6, 7])]))\n",
    "pd.concat([df, pd.DataFrame.from_dict({\"A\": [4], \"B\": [8]})], ignore_index=True)\n",
    "df.update(pd.DataFrame.from_dict(dict({\"A\": [99]})))\n",
    "df.update(pd.DataFrame({\"B\": [55]}, index=[2]))\n",
    "df"
   ]
  },
  {
   "cell_type": "markdown",
   "metadata": {},
   "source": [
    "### Create a new column using a lambda function"
   ]
  },
  {
   "cell_type": "code",
   "execution_count": null,
   "metadata": {},
   "outputs": [],
   "source": [
    "df = pd.DataFrame({'A': [1, 2, 3], 'B': [400, 500, 600]})\n",
    "df = df.assign(C = lambda x: df['A'] * df['B'])\n",
    "new_df = pd.DataFrame({'B': [4, 5, 6], 'C': [7, 8, 9]})\n",
    "df.update(new_df)\n",
    "df.head()\n"
   ]
  },
  {
   "cell_type": "markdown",
   "metadata": {},
   "source": [
    "Accessing a single element of 2-D DataFrame "
   ]
  },
  {
   "cell_type": "code",
   "execution_count": null,
   "metadata": {},
   "outputs": [],
   "source": [
    "x = df.loc[2].A\n",
    "print(x)\n"
   ]
  },
  {
   "cell_type": "markdown",
   "metadata": {},
   "source": [
    "# Handy way to simply peek at a line in a file"
   ]
  },
  {
   "cell_type": "code",
   "execution_count": 13,
   "metadata": {},
   "outputs": [],
   "source": [
    "# Returns the current line of a given file\n",
    "def peek(f):\n",
    "    pos = f.tell()          # set  'pos' to current reader location\n",
    "    result = f.readline()   # read whole line--reader advances to next line\n",
    "    f.seek(pos)             # set reader to where it was before the call to readline()\n",
    "    return result           # return result of earlier read"
   ]
  },
  {
   "cell_type": "markdown",
   "metadata": {},
   "source": [
    "### Using the new `peek` function"
   ]
  },
  {
   "cell_type": "code",
   "execution_count": null,
   "metadata": {},
   "outputs": [],
   "source": [
    "f = open(\"a1-resources/retail-head.txt\")\n",
    "f.readline()\n",
    "s = peek(f)\n",
    "print(s)"
   ]
  },
  {
   "cell_type": "code",
   "execution_count": null,
   "metadata": {},
   "outputs": [],
   "source": [
    "if not df.loc[0].empty:\n",
    "    print(\"yes\")"
   ]
  },
  {
   "cell_type": "code",
   "execution_count": null,
   "metadata": {},
   "outputs": [],
   "source": [
    "if not (df.loc[0].A == 2):\n",
    "    print(\"yes\")"
   ]
  }
 ],
 "metadata": {
  "kernelspec": {
   "display_name": ".venv",
   "language": "python",
   "name": "python3"
  },
  "language_info": {
   "codemirror_mode": {
    "name": "ipython",
    "version": 3
   },
   "file_extension": ".py",
   "mimetype": "text/x-python",
   "name": "python",
   "nbconvert_exporter": "python",
   "pygments_lexer": "ipython3",
   "version": "3.12.3"
  }
 },
 "nbformat": 4,
 "nbformat_minor": 2
}
