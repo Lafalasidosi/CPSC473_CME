{
 "cells": [
  {
   "cell_type": "markdown",
   "metadata": {},
   "source": [
    "# Scrap notes file\n",
    "\n",
    "This file used to be a1_apriori_pure.ipynb. I was using it for scrap notes regarding testing ideas, recording helpful documentation, and so on."
   ]
  },
  {
   "cell_type": "markdown",
   "metadata": {},
   "source": [
    "# How to accept command-line arguments in Python\n",
    "\n",
    "Import the `sys` module, which stores a list of \"words\" given at the command line.\n",
    "\n",
    "For example, in\n",
    "\n",
    "```python3.12 apriori.py ./testdata.txt 50```\n",
    "\n",
    "- `argv[0]`: apriori.py\n",
    "- `argv[1]`: ./testdata.txt\n",
    "- `argv[2]`: 50"
   ]
  },
  {
   "cell_type": "code",
   "execution_count": null,
   "metadata": {},
   "outputs": [],
   "source": [
    "import pandas as pd\n",
    "import sklearn\n",
    "\n",
    "D = pd.read_csv('head_of_retail.txt')\n",
    "#D.describe()\n"
   ]
  },
  {
   "cell_type": "code",
   "execution_count": null,
   "metadata": {},
   "outputs": [],
   "source": [
    "D.head()"
   ]
  },
  {
   "cell_type": "code",
   "execution_count": null,
   "metadata": {},
   "outputs": [],
   "source": [
    "# String.format() method\n",
    "print(\"count of rows in D: {}\".format(len(D)))"
   ]
  },
  {
   "cell_type": "code",
   "execution_count": null,
   "metadata": {},
   "outputs": [],
   "source": [
    "# Splitting a string on whitespace\n",
    "\"hello I am sentence\".split()"
   ]
  },
  {
   "cell_type": "code",
   "execution_count": null,
   "metadata": {},
   "outputs": [],
   "source": [
    "# It's easy to open a file in Python.\n",
    "f = open(\"retail.txt\")\n",
    "# read 88162\n",
    "f.readline()\n",
    "# read the second line and turn it into a list\n",
    "s = f.readline().split()\n",
    "print(s)\n",
    "# remove the first two elements\n",
    "s = s[2:]\n",
    "print(s)"
   ]
  },
  {
   "cell_type": "code",
   "execution_count": null,
   "metadata": {},
   "outputs": [],
   "source": [
    "# Demonstration of String.rstrip()\n",
    "s=\"hello\\nhi\\n\"\n",
    "print(s.rstrip())\n",
    "print(\"OEF\")\n"
   ]
  },
  {
   "cell_type": "code",
   "execution_count": null,
   "metadata": {},
   "outputs": [],
   "source": [
    "# Create an empty DataFrame with two columns but no rows\n",
    "T=pd.DataFrame.from_dict({\"A\": [], \"B\": []})\n",
    "T.head()"
   ]
  },
  {
   "cell_type": "markdown",
   "metadata": {},
   "source": [
    "### From the documentation re: `ignore_index`\n",
    "\n",
    "ignore_index : bool, default False\n",
    "\n",
    "   If True, do not use the index values along the concatenation axis. The resulting axis will be labeled 0, ..., n - 1. This is useful if you are concatenating objects where the concatenation axis does not have meaningful indexing information. Note the index values on the other axes are still respected in the join."
   ]
  },
  {
   "cell_type": "code",
   "execution_count": null,
   "metadata": {},
   "outputs": [],
   "source": [
    "df = pd.DataFrame.from_dict(dict([(\"A\", [1, 2, 3]), (\"B\", [5, 6, 7])]))\n",
    "print(df.loc[2]) \n",
    "print(df.loc[2].A)\n",
    "pd.concat([df, pd.DataFrame.from_dict({\"A\": [4], \"B\": [8]})], ignore_index=True)"
   ]
  },
  {
   "cell_type": "markdown",
   "metadata": {},
   "source": [
    "# This'll be helpful\n",
    "\n",
    "It refers to updating particular rows in a DataFrame."
   ]
  },
  {
   "cell_type": "code",
   "execution_count": null,
   "metadata": {},
   "outputs": [],
   "source": [
    "df = pd.DataFrame({'A': ['a', 'b', 'c'],\n",
    "                    'B': ['x', 'y', 'z']})\n",
    "new_df = pd.DataFrame({'B': ['d', 'f']}, index=[0, 2])\n",
    "df.update(new_df)\n",
    "df"
   ]
  },
  {
   "cell_type": "code",
   "execution_count": null,
   "metadata": {},
   "outputs": [],
   "source": [
    "# change (0, A) from 1 to 99)\n",
    "df = pd.DataFrame.from_dict(dict([(\"A\", [1, 2, 3]), (\"B\", [5, 6, 7])]))\n",
    "pd.concat([df, pd.DataFrame.from_dict({\"A\": [4], \"B\": [8]})], ignore_index=True)\n",
    "df.update(pd.DataFrame.from_dict(dict({\"A\": [99]})))\n",
    "df.update(pd.DataFrame({\"B\": [55]}, index=[2]))\n",
    "df"
   ]
  },
  {
   "cell_type": "markdown",
   "metadata": {},
   "source": [
    "### Create a new column using a lambda function"
   ]
  },
  {
   "cell_type": "code",
   "execution_count": null,
   "metadata": {},
   "outputs": [],
   "source": [
    "df = pd.DataFrame({'A': [1, 2, 3], 'B': [400, 500, 600]})\n",
    "df = df.assign(C = lambda x: df['A'] * df['B'])\n",
    "new_df = pd.DataFrame({'B': [4, 5, 6], 'C': [7, 8, 9]})\n",
    "df.update(new_df)\n",
    "df.head()\n"
   ]
  },
  {
   "cell_type": "markdown",
   "metadata": {},
   "source": [
    "Accessing a single element of 2-D DataFrame "
   ]
  },
  {
   "cell_type": "code",
   "execution_count": null,
   "metadata": {},
   "outputs": [],
   "source": [
    "x = df.loc[2].A\n",
    "print(x)\n"
   ]
  },
  {
   "cell_type": "markdown",
   "metadata": {},
   "source": [
    "# Handy way to simply peek at a line in a file"
   ]
  },
  {
   "cell_type": "code",
   "execution_count": null,
   "metadata": {},
   "outputs": [],
   "source": [
    "# Returns the current line of a given file\n",
    "def peek(f):\n",
    "    pos = f.tell()          # set  'pos' to current reader location\n",
    "    result = f.readline()   # read whole line--reader advances to next line\n",
    "    f.seek(pos)             # set reader to where it was before the call to readline()\n",
    "    return result           # return result of earlier read"
   ]
  },
  {
   "cell_type": "markdown",
   "metadata": {},
   "source": [
    "### Using the new `peek` function"
   ]
  },
  {
   "cell_type": "code",
   "execution_count": null,
   "metadata": {},
   "outputs": [],
   "source": [
    "f = open(\"a1-resources/retail-head.txt\")\n",
    "f.readline()\n",
    "s = peek(f)\n",
    "print(s)"
   ]
  },
  {
   "cell_type": "code",
   "execution_count": null,
   "metadata": {},
   "outputs": [],
   "source": [
    "if not df.loc[0].empty:\n",
    "    print(\"yes\")"
   ]
  },
  {
   "cell_type": "code",
   "execution_count": null,
   "metadata": {},
   "outputs": [],
   "source": [
    "if not (df.loc[0].A == 2):\n",
    "    print(\"yes\")"
   ]
  },
  {
   "cell_type": "code",
   "execution_count": null,
   "metadata": {},
   "outputs": [],
   "source": [
    "df = pd.DataFrame({'A': [1, 2, 3], 'B': [400, 500, 600]})\n",
    "df = df.assign(C = lambda x: df['A'] * df['B'])\n",
    "new_df = pd.DataFrame({'B': [4, 5, 6], 'C': [7, 8, 9]})\n",
    "df.update(new_df)\n",
    "df.head()\n"
   ]
  },
  {
   "cell_type": "code",
   "execution_count": null,
   "metadata": {},
   "outputs": [],
   "source": [
    "df.loc[3] # throws ValueError"
   ]
  },
  {
   "cell_type": "code",
   "execution_count": null,
   "metadata": {},
   "outputs": [],
   "source": [
    "# TODO: comment this assignment out or remove entirely once method implemented in full\n",
    "filename = \"retail-head.txt\"\n",
    "    \n",
    "counts = pd.DataFrame.from_dict(dict({\"Item\": [], \"Count\": []}), dtype=int)\n",
    "data_file = open(filename)\n",
    "counts.dtypes\n",
    "# conversion_dict = {\"Item\": int, \"Count\": int}\n",
    "# counts.astype(conversion_dict)\n",
    "counts = pd.concat([counts, pd.DataFrame.from_dict({\"Item\": [4, 5, 6], \"Count\": [8, 12, 16]})])\n",
    "counts"
   ]
  },
  {
   "cell_type": "code",
   "execution_count": null,
   "metadata": {},
   "outputs": [],
   "source": [
    "# Returns the current line of a given file\n",
    "def peekline(f):\n",
    "    pos = f.tell()          # set  'pos' to current reader location\n",
    "    result = f.readline()   # read whole line--reader advances to next line\n",
    "    f.seek(pos)             # set reader to where it was before the call to readline()\n",
    "    return result           # return result of earlier read"
   ]
  },
  {
   "cell_type": "code",
   "execution_count": null,
   "metadata": {},
   "outputs": [],
   "source": [
    "# TODO: comment this assignment out or remove entirely once method implemented in full\n",
    "filename = \"retail-head.txt\"\n",
    "    \n",
    "counts = {}\n",
    "data_file = open(filename)\n",
    "while (data_file.readline()):   # skips first line\n",
    "        items = peekline(data_file).split()[2:]    # itemset portion of transaction\n",
    "        for entry in items:\n",
    "                count = counts.get(entry)\n",
    "                if (count != None):\n",
    "                        counts.update([(entry, count + 1)])\n",
    "                else:\n",
    "                        counts.update([(entry, 1)])\n",
    "counts"
   ]
  },
  {
   "cell_type": "code",
   "execution_count": null,
   "metadata": {},
   "outputs": [],
   "source": [
    "counts = {4: 3, 1: 10}\n",
    "x = 2\n",
    "if counts.get(x):\n",
    "    print(\"{} is in this counts\".format(x))\n",
    "else:\n",
    "    print(\"{} is not in counts\".format(x))"
   ]
  },
  {
   "cell_type": "code",
   "execution_count": null,
   "metadata": {},
   "outputs": [],
   "source": [
    "from itertools import chain, combinations\n",
    "\n",
    "def k_powerset(item_set, k):\n",
    "    s = list(item_set)\n",
    "    return combinations(s, k)\n",
    "\n",
    "print(list(i_powerset([1,2,3,4], 3)))"
   ]
  },
  {
   "cell_type": "markdown",
   "metadata": {},
   "source": [
    "l1 = [0]\n",
    "l1 [0]\n",
    "l1 join l2 = [0]\n",
    "\n",
    "hfs([0], L1)\n",
    "\n",
    "[(39, 50675), (48, 42135)]"
   ]
  },
  {
   "cell_type": "markdown",
   "metadata": {},
   "source": [
    "## Python has a `map` function on lists!"
   ]
  },
  {
   "cell_type": "code",
   "execution_count": null,
   "metadata": {},
   "outputs": [],
   "source": [
    "mylist = map(lambda x: x+1, [0,10,2])\n",
    "for i in mylist:\n",
    "    print(i)\n",
    "    "
   ]
  },
  {
   "cell_type": "code",
   "execution_count": null,
   "metadata": {},
   "outputs": [],
   "source": [
    "# Returns the current line of a given file\n",
    "def peekline(f):\n",
    "    pos = f.tell()          # set  'pos' to current reader location\n",
    "    result = f.readline()   # read whole line--reader advances to next line\n",
    "    f.seek(pos)             # set reader to where it was before the call to readline()\n",
    "    return result           # return result of earlier read\n"
   ]
  },
  {
   "cell_type": "code",
   "execution_count": null,
   "metadata": {},
   "outputs": [],
   "source": [
    "D = open(\"retail-head.txt\")\n",
    "l = peekline(D).rstrip()\n",
    "print(l)\n",
    "for U in D: \n",
    "    print(U)"
   ]
  },
  {
   "cell_type": "code",
   "execution_count": null,
   "metadata": {},
   "outputs": [],
   "source": [
    "def get_counts(filename):\n",
    "    result = {}                     \n",
    "    data_file = open(filename)      \n",
    "    while (data_file.readline()):                   # skips first line containing number of rows of data\n",
    "        items = peekline(data_file).split()[2:]     # itemset portion of transaction = all columns except first two\n",
    "        for entry in items:                         # for every entry in a line, \n",
    "#                entry = int(entry)                  # read it as an integer,       #may well not need to do this anymore\n",
    "                count = result.get(entry)           # check if it's already in `counts`:\n",
    "                if (count == None):                 # if it's not, it's the first time we've seen it\n",
    "                        result.update({entry: 1}) # so add it with a count of 1\n",
    "                else:                               # otherwise, increment the value that's already there\n",
    "                        result.update({entry: count + 1})\n",
    "    return result\n",
    "\n",
    "\n",
    "\n",
    "X = get_counts(\"retail-head.txt\")\n",
    "X"
   ]
  },
  {
   "cell_type": "code",
   "execution_count": null,
   "metadata": {},
   "outputs": [],
   "source": [
    "m = {'1': 2, '2': 5, '4': -44, '5': 444}\n",
    "#m = [(1, 2), (3, 4), (5, 6)]\n",
    "# for k, v in m:\n",
    "#     print(\"{}, {}\".format(k, v))\n",
    "\n",
    "myiterator = filter(lambda x: m.get(x) >= 5, m)\n",
    "print(list(myiterator))\n"
   ]
  },
  {
   "cell_type": "code",
   "execution_count": null,
   "metadata": {},
   "outputs": [],
   "source": [
    "def all_equal_except_last(l1, l2):\n",
    "    length = len(l1) # == len(l2)\n",
    "    for i in range(length-1):\n",
    "        if l1[i] != l2[i]:\n",
    "            return False\n",
    "    return l1[length-1] < l2[length-1]\n",
    "\n",
    "\n",
    "if all_equal_except_last([1], [1]):\n",
    "    print(\"all equal except last\")\n",
    "else:\n",
    "    print(\"not all equal except last\")\n",
    "    "
   ]
  },
  {
   "cell_type": "code",
   "execution_count": null,
   "metadata": {},
   "outputs": [],
   "source": [
    "def itemset_union(l1, l2):\n",
    "    to_append = to_strings(l2)[-1]\n",
    "    return l1 + \" {}\".format(to_append)"
   ]
  },
  {
   "cell_type": "code",
   "execution_count": null,
   "metadata": {},
   "outputs": [],
   "source": [
    "def to_strings(int_array):\n",
    "    return list(map(lambda x: str(x), int_array))\n"
   ]
  },
  {
   "cell_type": "code",
   "execution_count": null,
   "metadata": {},
   "outputs": [],
   "source": [
    "print(itemset_union(\"4\", \"5\"))"
   ]
  },
  {
   "cell_type": "code",
   "execution_count": null,
   "metadata": {},
   "outputs": [],
   "source": [
    "from itertools import combinations, chain"
   ]
  },
  {
   "cell_type": "code",
   "execution_count": null,
   "metadata": {},
   "outputs": [],
   "source": [
    "def k_powersets(item_set, k):\n",
    "        s = item_set\n",
    "        return combinations(s, k)\n",
    "\n",
    "def powerset(iterable):\n",
    "    \"powerset([1,2,3]) --> () (1,) (2,) (3,) (1,2) (1,3) (2,3) (1,2,3)\"\n",
    "    s = list(iterable)\n",
    "    return chain.from_iterable(combinations(s, r) for r in range(len(s)+1))"
   ]
  },
  {
   "cell_type": "code",
   "execution_count": null,
   "metadata": {},
   "outputs": [],
   "source": [
    "list(k_powersets({1, 2, 4}, 1))\n",
    "list(powerset([1, 2, 3]))"
   ]
  },
  {
   "cell_type": "code",
   "execution_count": null,
   "metadata": {},
   "outputs": [],
   "source": [
    "x = set((2,))\n",
    "y = {2, 3, 4}\n",
    "x.issubset(y)"
   ]
  },
  {
   "cell_type": "code",
   "execution_count": null,
   "metadata": {},
   "outputs": [],
   "source": [
    "x = set([1, 2, 2, 3])\n",
    "x\n",
    "y = set([6, 5, 6, 3, 2, 55, 2, 3, 5, 1])\n",
    "y\n",
    "print((x in y))\n",
    "print(x.issubset(y))"
   ]
  },
  {
   "cell_type": "code",
   "execution_count": null,
   "metadata": {},
   "outputs": [],
   "source": [
    "Lprev = dict([(1, 'a'), (2, 'b'), (3, 'c')])\n",
    "Lprev\n",
    "incremented_keys = map(lambda x: x+1, Lprev)\n",
    "list(incremented_keys)"
   ]
  },
  {
   "cell_type": "code",
   "execution_count": null,
   "metadata": {},
   "outputs": [],
   "source": [
    "def to_strings(int_array):\n",
    "    return list(map(lambda x: str(x), int_array))\n",
    "\n",
    "to_strings({1, 2, 3, 4, 5})"
   ]
  },
  {
   "cell_type": "code",
   "execution_count": null,
   "metadata": {},
   "outputs": [],
   "source": [
    "min_sup = 1\n",
    "C_k = dict([('a', 0), ('b', 1), ('c', 0), ('d', 4)])\n",
    "\n",
    "dict([(c, C_k[c]) for c in C_k if C_k[c] >= min_sup])"
   ]
  },
  {
   "cell_type": "code",
   "execution_count": null,
   "metadata": {},
   "outputs": [],
   "source": [
    "D = open(\"retail-head.txt\")\n",
    "D.close()\n",
    "if D:\n",
    "    print('none')"
   ]
  }
 ],
 "metadata": {
  "kernelspec": {
   "display_name": ".venv",
   "language": "python",
   "name": "python3"
  },
  "language_info": {
   "codemirror_mode": {
    "name": "ipython",
    "version": 3
   },
   "file_extension": ".py",
   "mimetype": "text/x-python",
   "name": "python",
   "nbconvert_exporter": "python",
   "pygments_lexer": "ipython3",
   "version": "3.12.3"
  }
 },
 "nbformat": 4,
 "nbformat_minor": 2
}
