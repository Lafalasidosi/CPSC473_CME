{
 "cells": [
  {
   "cell_type": "markdown",
   "metadata": {},
   "source": [
    "# How to accept command-line arguments in Python\n",
    "\n",
    "Import the `sys` module, which stores a list of \"words\" given at the command line.\n",
    "\n",
    "For example, in\n",
    "\n",
    "```python3.12 apriori.py ./testdata.txt 50```\n",
    "\n",
    "- `argv[0]`: apriori.py\n",
    "- `argv[1]`: ./testdata.txt 50\n",
    "- `argv[2]`: 50"
   ]
  }
 ],
 "metadata": {
  "kernelspec": {
   "display_name": ".venv",
   "language": "python",
   "name": "python3"
  },
  "language_info": {
   "codemirror_mode": {
    "name": "ipython",
    "version": 3
   },
   "file_extension": ".py",
   "mimetype": "text/x-python",
   "name": "python",
   "nbconvert_exporter": "python",
   "pygments_lexer": "ipython3",
   "version": "3.12.3"
  }
 },
 "nbformat": 4,
 "nbformat_minor": 2
}
