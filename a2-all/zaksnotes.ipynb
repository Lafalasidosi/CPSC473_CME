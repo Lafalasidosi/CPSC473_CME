{
 "cells": [
  {
   "cell_type": "markdown",
   "metadata": {},
   "source": [
    "Need: \n",
    "\n",
    "- Nodes for a tree\n",
    "- Augment L-tables with pointers to nodes in FP-tree\n",
    "- Each node needs one variable-length list of pointers to children\n",
    "- Each node needs one pointer (for pointer chain starting at L-table)"
   ]
  },
  {
   "cell_type": "code",
   "execution_count": 1,
   "metadata": {},
   "outputs": [],
   "source": [
    "from helpers import find_frequent_1_itemsets\n",
    "\n",
    "D_name = 'data.txt'\n",
    "\n",
    "D = open(D_name)\n",
    "\n",
    "L1 = find_frequent_1_itemsets(D_name, 0.5)\n",
    "\n",
    "\n"
   ]
  },
  {
   "cell_type": "code",
   "execution_count": 2,
   "metadata": {},
   "outputs": [
    {
     "data": {
      "text/plain": [
       "{'4': 1, '1': 2, '3': 3, '2': 3, '5': 3}"
      ]
     },
     "execution_count": 2,
     "metadata": {},
     "output_type": "execute_result"
    }
   ],
   "source": [
    "kvpairs = [(k, L1[k]) for k in L1]\n",
    "kvpairs.sort(key=lambda x: x[1])\n",
    "L = dict(kvpairs)\n",
    "L"
   ]
  },
  {
   "cell_type": "code",
   "execution_count": 3,
   "metadata": {},
   "outputs": [
    {
     "data": {
      "text/plain": [
       "{'4': 1, '1': 2, '3': 3, '2': 3, '5': 3}"
      ]
     },
     "execution_count": 3,
     "metadata": {},
     "output_type": "execute_result"
    }
   ],
   "source": [
    "from helpers import sort_L_table\n",
    "\n",
    "L1 = sort_L_table(L1)\n",
    "L1"
   ]
  },
  {
   "cell_type": "code",
   "execution_count": 4,
   "metadata": {},
   "outputs": [],
   "source": [
    "from treestuffs import Node, FPTree\n"
   ]
  },
  {
   "cell_type": "code",
   "execution_count": 5,
   "metadata": {},
   "outputs": [
    {
     "name": "stdout",
     "output_type": "stream",
     "text": [
      "[\"1\", 1]\n"
     ]
    }
   ],
   "source": [
    "\n",
    "n = Node('1')\n",
    "n.show()\n",
    "\n",
    "n2 = Node('2', parent=n)\n",
    "n.add_child(n2)\n",
    "n2.increment()\n",
    "#n.get_children()[0].show()\n"
   ]
  },
  {
   "cell_type": "code",
   "execution_count": 7,
   "metadata": {},
   "outputs": [
    {
     "data": {
      "text/plain": [
       "<treestuffs.Node at 0x73db4d5e3890>"
      ]
     },
     "execution_count": 7,
     "metadata": {},
     "output_type": "execute_result"
    }
   ],
   "source": [
    "n3 = Node('3')\n",
    "n.add_child(n3)\n",
    "\n",
    "n.get_child('3')\n"
   ]
  }
 ],
 "metadata": {
  "kernelspec": {
   "display_name": ".venv",
   "language": "python",
   "name": "python3"
  },
  "language_info": {
   "codemirror_mode": {
    "name": "ipython",
    "version": 3
   },
   "file_extension": ".py",
   "mimetype": "text/x-python",
   "name": "python",
   "nbconvert_exporter": "python",
   "pygments_lexer": "ipython3",
   "version": "3.12.3"
  }
 },
 "nbformat": 4,
 "nbformat_minor": 2
}
