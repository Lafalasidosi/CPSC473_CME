{
 "cells": [
  {
   "cell_type": "markdown",
   "metadata": {},
   "source": [
    "Need: \n",
    "\n",
    "- Augment L-tables with pointers to nodes in FP-tree\n",
    "\n",
    "Have: \n",
    "\n",
    "- Nodes with pointers to children, niblings, item and count\n",
    "- Sorted L1 table"
   ]
  },
  {
   "cell_type": "markdown",
   "metadata": {},
   "source": [
    "Particular issue: sorting individual transactions based on L1 table ordering"
   ]
  },
  {
   "cell_type": "code",
   "execution_count": null,
   "metadata": {},
   "outputs": [],
   "source": [
    "from helpers import find_frequent_1_itemsets, \n",
    "from treestuffs import Node, FPTree\n",
    "\n",
    "D_name = 'data.txt'\n",
    "\n",
    "D = open(D_name)\n",
    "\n",
    "L1 = find_frequent_1_itemsets(D_name, 2)\n",
    "\n",
    "\n"
   ]
  },
  {
   "cell_type": "code",
   "execution_count": 14,
   "metadata": {},
   "outputs": [
    {
     "data": {
      "text/plain": [
       "{'1': 2, '3': 3, '2': 3, '5': 3}"
      ]
     },
     "execution_count": 14,
     "metadata": {},
     "output_type": "execute_result"
    }
   ],
   "source": [
    "kvpairs = [(k, L1[k]) for k in L1]\n",
    "kvpairs.sort(key=lambda x: x[1])\n",
    "L = dict(kvpairs)\n",
    "L"
   ]
  },
  {
   "cell_type": "code",
   "execution_count": 4,
   "metadata": {},
   "outputs": [
    {
     "data": {
      "text/plain": [
       "{'1': 2, '3': 3, '2': 3, '5': 3}"
      ]
     },
     "execution_count": 4,
     "metadata": {},
     "output_type": "execute_result"
    }
   ],
   "source": [
    "from helpers import sort_L_table\n",
    "\n",
    "L1 = sort_L_table(L1)\n",
    "L1"
   ]
  },
  {
   "cell_type": "code",
   "execution_count": 6,
   "metadata": {},
   "outputs": [
    {
     "name": "stdout",
     "output_type": "stream",
     "text": [
      "[\"1\", 1]\n"
     ]
    }
   ],
   "source": [
    "\n",
    "n = Node('1')\n",
    "n.show()\n",
    "\n",
    "n2 = Node('2', parent=n)\n",
    "n.add_child(n2)\n",
    "n2.increment()\n",
    "#n.get_children()[0].show()\n"
   ]
  },
  {
   "cell_type": "code",
   "execution_count": 7,
   "metadata": {},
   "outputs": [
    {
     "data": {
      "text/plain": [
       "<treestuffs.Node at 0x7c7aa61170b0>"
      ]
     },
     "execution_count": 7,
     "metadata": {},
     "output_type": "execute_result"
    }
   ],
   "source": [
    "n3 = Node('3')\n",
    "n.add_child(n3)\n",
    "\n",
    "n.get_child('3')\n"
   ]
  },
  {
   "cell_type": "code",
   "execution_count": 8,
   "metadata": {},
   "outputs": [
    {
     "data": {
      "text/plain": [
       "''"
      ]
     },
     "execution_count": 8,
     "metadata": {},
     "output_type": "execute_result"
    }
   ],
   "source": [
    "tree = FPTree()\n",
    "root = tree.get_root()\n",
    "root.get_item()"
   ]
  },
  {
   "cell_type": "code",
   "execution_count": 12,
   "metadata": {},
   "outputs": [
    {
     "data": {
      "text/plain": [
       "{'2': <treestuffs.Node at 0x7c7aa61168d0>,\n",
       " '3': <treestuffs.Node at 0x7c7aa61170b0>}"
      ]
     },
     "execution_count": 12,
     "metadata": {},
     "output_type": "execute_result"
    }
   ],
   "source": [
    "tree.add_node(n)\n",
    "root.get_children()['1'].get_children()"
   ]
  },
  {
   "cell_type": "code",
   "execution_count": null,
   "metadata": {},
   "outputs": [],
   "source": [
    "while(D.readline())\n",
    "    t = peek"
   ]
  }
 ],
 "metadata": {
  "kernelspec": {
   "display_name": ".venv",
   "language": "python",
   "name": "python3"
  },
  "language_info": {
   "codemirror_mode": {
    "name": "ipython",
    "version": 3
   },
   "file_extension": ".py",
   "mimetype": "text/x-python",
   "name": "python",
   "nbconvert_exporter": "python",
   "pygments_lexer": "ipython3",
   "version": "3.12.3"
  }
 },
 "nbformat": 4,
 "nbformat_minor": 2
}
