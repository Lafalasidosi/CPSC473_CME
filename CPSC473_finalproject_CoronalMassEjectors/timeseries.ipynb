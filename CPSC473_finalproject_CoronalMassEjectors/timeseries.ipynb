{
 "cells": [
  {
   "cell_type": "markdown",
   "metadata": {},
   "source": [
    "# May have found a simpler TimeSeries example\n",
    "\n",
    "https://www.kaggle.com/code/iamleonie/intro-to-time-series-forecasting"
   ]
  },
  {
   "cell_type": "code",
   "execution_count": 1,
   "metadata": {},
   "outputs": [
    {
     "name": "stderr",
     "output_type": "stream",
     "text": [
      "C:\\Users\\lafal\\AppData\\Local\\Temp\\ipykernel_1372\\2490940577.py:6: FutureWarning: The 'delim_whitespace' keyword in pd.read_csv is deprecated and will be removed in a future version. Use ``sep='\\s+'`` instead\n",
      "  data = pd.read_csv('data.txt', delim_whitespace=True)\n",
      "C:\\Users\\lafal\\AppData\\Local\\Temp\\ipykernel_1372\\2490940577.py:14: FutureWarning: A value is trying to be set on a copy of a DataFrame or Series through chained assignment using an inplace method.\n",
      "The behavior will change in pandas 3.0. This inplace method will never work because the intermediate object on which we are setting values always behaves as a copy.\n",
      "\n",
      "For example, when doing 'df[col].method(value, inplace=True)', try using 'df.method({col: value}, inplace=True)' or df[col] = df[col].method(value) instead, to perform the operation inplace on the original object.\n",
      "\n",
      "\n",
      "  data[c].replace(to_replace=-99999.000000, value=float(\"NaN\"), inplace=True)\n"
     ]
    }
   ],
   "source": [
    "import pandas as pd\n",
    "from statsmodels.tsa.stattools import adfuller\n",
    "import matplotlib.pyplot as plt\n",
    "import numpy as np\n",
    "\n",
    "data = pd.read_csv('data.txt', delim_whitespace=True)\n",
    "data['Timestamp'] = data['Timestamp'].apply(lambda x: pd.to_datetime(x, format='%Y-%m-%d:%H:%M:%S.%f'))\n",
    "#data['Timestamp'] = data['Timestamp'].apply(lambda x: pd.Timestamp.timestamp(x))\n",
    "data.set_index('Timestamp', inplace=True)\n",
    "data.drop('Source', axis=1, inplace=True)\n",
    "\n",
    "\n",
    "for c in data.columns:\n",
    "    data[c].replace(to_replace=-99999.000000, value=float(\"NaN\"), inplace=True)\n",
    "   \n"
   ]
  },
  {
   "cell_type": "markdown",
   "metadata": {},
   "source": [
    "Option 1: replace with the mean value of the column"
   ]
  },
  {
   "cell_type": "code",
   "execution_count": 2,
   "metadata": {},
   "outputs": [],
   "source": [
    "# for c in data.columns:\n",
    "#     data[c].fillna(value=data[c].mean(), inplace=True)"
   ]
  },
  {
   "cell_type": "markdown",
   "metadata": {},
   "source": [
    "Option 2: try to interpolate"
   ]
  },
  {
   "cell_type": "code",
   "execution_count": 3,
   "metadata": {},
   "outputs": [
    {
     "name": "stderr",
     "output_type": "stream",
     "text": [
      "C:\\Users\\lafal\\AppData\\Local\\Temp\\ipykernel_1372\\3951384078.py:2: FutureWarning: A value is trying to be set on a copy of a DataFrame or Series through chained assignment using an inplace method.\n",
      "The behavior will change in pandas 3.0. This inplace method will never work because the intermediate object on which we are setting values always behaves as a copy.\n",
      "\n",
      "For example, when doing 'df[col].method(value, inplace=True)', try using 'df.method({col: value}, inplace=True)' or df[col] = df[col].method(value) instead, to perform the operation inplace on the original object.\n",
      "\n",
      "\n",
      "  data[c].interpolate(inplace=True)\n"
     ]
    }
   ],
   "source": [
    "for c in data.columns:\n",
    "    data[c].interpolate(inplace=True)"
   ]
  },
  {
   "cell_type": "markdown",
   "metadata": {},
   "source": [
    "Take only data of medians"
   ]
  },
  {
   "cell_type": "code",
   "execution_count": 4,
   "metadata": {},
   "outputs": [
    {
     "data": {
      "text/plain": [
       "Index(['Bt_med', 'Bt_min', 'Bt_max', 'Bx_med', 'Bx_min', 'Bx_max', 'By_med',\n",
       "       'By_min', 'By_max', 'Bz_med', 'Bz_min', 'Bz_max', 'Phi_mean', 'Phi_min',\n",
       "       'Phi_max', 'Theta_med', 'Theta_min', 'Theta_max', 'Dens_med',\n",
       "       'Dens_min', 'Dens_max', 'Speed_med', 'Speed_min', 'Speed_max',\n",
       "       'Temp_med', 'Temp_min', 'Temp_max'],\n",
       "      dtype='object')"
      ]
     },
     "execution_count": 4,
     "metadata": {},
     "output_type": "execute_result"
    }
   ],
   "source": [
    "data.columns"
   ]
  },
  {
   "cell_type": "markdown",
   "metadata": {},
   "source": [
    "LSTM or GRU"
   ]
  },
  {
   "cell_type": "markdown",
   "metadata": {},
   "source": [
    "# Try an RNN"
   ]
  },
  {
   "cell_type": "code",
   "execution_count": null,
   "metadata": {},
   "outputs": [],
   "source": []
  }
 ],
 "metadata": {
  "kernelspec": {
   "display_name": ".venv",
   "language": "python",
   "name": "python3"
  },
  "language_info": {
   "codemirror_mode": {
    "name": "ipython",
    "version": 3
   },
   "file_extension": ".py",
   "mimetype": "text/x-python",
   "name": "python",
   "nbconvert_exporter": "python",
   "pygments_lexer": "ipython3",
   "version": "3.12.9"
  }
 },
 "nbformat": 4,
 "nbformat_minor": 2
}
